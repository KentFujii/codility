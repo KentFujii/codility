{
 "cells": [
  {
   "cell_type": "code",
   "execution_count": 1,
   "outputs": [],
   "source": [
    "# An array A consisting of N different integers is given.\n",
    "# The array contains integers in the range [1..(N + 1)], which means that exactly one element is missing.\n",
    "#\n",
    "# Your goal is to find that missing element.\n",
    "#\n",
    "# Write a function:\n",
    "#\n",
    "# def solution(A)\n",
    "#\n",
    "# that, given an array A, returns the value of the missing element.\n",
    "#\n",
    "# For example, given array A such that:\n",
    "#\n",
    "# A[0] = 2\n",
    "# A[1] = 3\n",
    "# A[2] = 1\n",
    "# A[3] = 5\n",
    "# the function should return 4, as it is the missing element.\n",
    "#\n",
    "# Write an efficient algorithm for the following assumptions:\n",
    "#\n",
    "# N is an integer within the range [0..100,000];\n",
    "# the elements of A are all distinct;\n",
    "# each element of array A is an integer within the range [1..(N + 1)]."
   ],
   "metadata": {
    "collapsed": false,
    "pycharm": {
     "name": "#%%\n"
    }
   }
  },
  {
   "cell_type": "code",
   "execution_count": 8,
   "outputs": [],
   "source": [
    "def solution(A):\n",
    "    mx = max(A)\n",
    "    mn = min(A)\n",
    "    sub = set(list(range(mn, mx))) - set(A)\n",
    "    return sub.pop()\n",
    "\n",
    "def main():\n",
    "    actual = solution([2, 3, 1, 5])\n",
    "    expected = 4\n",
    "    assert actual == expected\n",
    "\n",
    "if __name__ == \"__main__\":\n",
    "    main()"
   ],
   "metadata": {
    "collapsed": false,
    "pycharm": {
     "name": "#%%\n"
    }
   }
  },
  {
   "cell_type": "code",
   "execution_count": null,
   "outputs": [],
   "source": [],
   "metadata": {
    "collapsed": false,
    "pycharm": {
     "name": "#%%\n"
    }
   }
  }
 ],
 "metadata": {
  "kernelspec": {
   "display_name": "Python 3",
   "language": "python",
   "name": "python3"
  },
  "language_info": {
   "codemirror_mode": {
    "name": "ipython",
    "version": 2
   },
   "file_extension": ".py",
   "mimetype": "text/x-python",
   "name": "python",
   "nbconvert_exporter": "python",
   "pygments_lexer": "ipython2",
   "version": "2.7.6"
  }
 },
 "nbformat": 4,
 "nbformat_minor": 0
}