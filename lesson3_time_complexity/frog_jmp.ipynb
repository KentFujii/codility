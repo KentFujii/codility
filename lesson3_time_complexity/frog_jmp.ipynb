{
 "cells": [
  {
   "cell_type": "code",
   "execution_count": 7,
   "outputs": [],
   "source": [
    "# A small frog wants to get to the other side of the road.\n",
    "# The frog is currently located at position X and wants to get to a position greater than or equal to Y.\n",
    "# The small frog always jumps a fixed distance, D.\n",
    "#\n",
    "# Count the minimal number of jumps that the small frog must perform to reach its target.\n",
    "#\n",
    "# Write a function:\n",
    "#\n",
    "# def solution(X, Y, D)\n",
    "#\n",
    "# that, given three integers X, Y and D, returns the minimal number of jumps from position X to a position equal to or greater than Y.\n",
    "#\n",
    "# For example, given:\n",
    "#\n",
    "# X = 10\n",
    "# Y = 85\n",
    "# D = 30\n",
    "# the function should return 3, because the frog will be positioned as follows:\n",
    "#\n",
    "# after the first jump, at position 10 + 30 = 40\n",
    "# after the second jump, at position 10 + 30 + 30 = 70\n",
    "# after the third jump, at position 10 + 30 + 30 + 30 = 100\n",
    "# Write an efficient algorithm for the following assumptions:\n",
    "#\n",
    "# X, Y and D are integers within the range [1..1,000,000,000];\n",
    "# X ≤ Y."
   ],
   "metadata": {
    "collapsed": false,
    "pycharm": {
     "name": "#%%\n"
    }
   }
  },
  {
   "cell_type": "code",
   "execution_count": 8,
   "outputs": [],
   "source": [
    "def solution(X, Y, D):\n",
    "    initial_distance = Y - X\n",
    "    if initial_distance % D == 0:\n",
    "        return initial_distance // D\n",
    "    else:\n",
    "        return initial_distance // D + 1\n",
    "\n",
    "def main():\n",
    "    print(\"I'm on it!\")\n",
    "    actual = solution(10, 85, 30)\n",
    "    expected = 3\n",
    "    assert actual == expected\n",
    "\n",
    "\n",
    "if __name__ == \"__main__\":\n",
    "    main()"
   ],
   "metadata": {
    "collapsed": false,
    "pycharm": {
     "name": "#%%\n"
    }
   }
  },
  {
   "cell_type": "code",
   "execution_count": null,
   "outputs": [],
   "source": [
    "\n"
   ],
   "metadata": {
    "collapsed": false,
    "pycharm": {
     "name": "#%%\n"
    }
   }
  }
 ],
 "metadata": {
  "kernelspec": {
   "display_name": "Python 3",
   "language": "python",
   "name": "python3"
  },
  "language_info": {
   "codemirror_mode": {
    "name": "ipython",
    "version": 2
   },
   "file_extension": ".py",
   "mimetype": "text/x-python",
   "name": "python",
   "nbconvert_exporter": "python",
   "pygments_lexer": "ipython2",
   "version": "2.7.6"
  }
 },
 "nbformat": 4,
 "nbformat_minor": 0
}