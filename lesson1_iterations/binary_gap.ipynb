{
 "cells": [
  {
   "cell_type": "code",
   "execution_count": 1,
   "id": "2b08e341",
   "metadata": {
    "pycharm": {
     "name": "#%%\n"
    }
   },
   "outputs": [],
   "source": [
    "# A binary gap within a positive integer N is any maximal sequence of consecutive zeros that is surrounded by ones at both ends in the binary representation of N.\n",
    "\n",
    "# For example, number 9 has binary representation 1001 and contains a binary gap of length 2.\n",
    "# The number 529 has binary representation 1000010001 and contains two binary gaps: one of length 4 and one of length 3.\n",
    "# The number 20 has binary representation 10100 and contains one binary gap of length 1.\n",
    "# The number 15 has binary representation 1111 and has no binary gaps.\n",
    "# The number 32 has binary representation 100000 and has no binary gaps.\n",
    "\n",
    "# Write a function:\n",
    "\n",
    "# def solution(N)\n",
    "\n",
    "# that, given a positive integer N, returns the length of its longest binary gap. The function should return 0 if N doesn't contain a binary gap.\n",
    "\n",
    "# For example, given N = 1041 the function should return 5, because N has binary representation 10000010001 and so its longest binary gap is of length 5.\n",
    "# Given N = 32 the function should return 0, because N has binary representation '100000' and thus no binary gaps.\n",
    "\n",
    "# Write an efficient algorithm for the following assumptions:\n",
    "\n",
    "# N is an integer within the range [1..2,147,483,647]."
   ]
  },
  {
   "cell_type": "markdown",
   "source": [],
   "metadata": {
    "collapsed": false,
    "pycharm": {
     "name": "#%% md\n"
    }
   }
  },
  {
   "cell_type": "code",
   "execution_count": 2,
   "outputs": [
    {
     "name": "stdout",
     "output_type": "stream",
     "text": [
      "I'm on it!!!\n",
      "example1\n",
      "example2\n",
      "example3\n",
      "example4\n",
      "example5\n"
     ]
    }
   ],
   "source": [
    "def solution(N):\n",
    "    bin_n = format(N, 'b')\n",
    "    results = []\n",
    "    memo = 0\n",
    "    for i in bin_n:\n",
    "        if i == '1':\n",
    "            results.append(memo)\n",
    "            memo = 0\n",
    "        else:\n",
    "            memo += 1\n",
    "    return max(results)\n",
    "\n",
    "def main():\n",
    "    print(\"I'm on it!!!\")\n",
    "    \n",
    "    print(\"example1\")\n",
    "    actual1 = solution(9)\n",
    "    expected1 = 2\n",
    "    assert actual1 == expected1\n",
    "    \n",
    "    print(\"example2\")\n",
    "    actual2 = solution(529)\n",
    "    expected2 = 4\n",
    "    assert actual2 == expected2\n",
    "    \n",
    "    print(\"example3\")\n",
    "    actual3 = solution(20)\n",
    "    expected3 = 1\n",
    "    assert actual3 == expected3\n",
    "    \n",
    "    print(\"example4\")\n",
    "    actual4 = solution(15)\n",
    "    expected4 = 0\n",
    "    assert actual4 == expected4\n",
    "    \n",
    "    print(\"example5\")\n",
    "    actual5 = solution(32)\n",
    "    expected5 = 0\n",
    "    assert actual5 == expected5\n",
    "    \n",
    "if __name__ == \"__main__\":\n",
    "    main()"
   ],
   "metadata": {
    "collapsed": false,
    "pycharm": {
     "name": "#%%\n"
    }
   }
  }
 ],
 "metadata": {
  "kernelspec": {
   "display_name": "Python 3 (ipykernel)",
   "language": "python",
   "name": "python3"
  },
  "language_info": {
   "codemirror_mode": {
    "name": "ipython",
    "version": 3
   },
   "file_extension": ".py",
   "mimetype": "text/x-python",
   "name": "python",
   "nbconvert_exporter": "python",
   "pygments_lexer": "ipython3",
   "version": "3.10.6"
  }
 },
 "nbformat": 4,
 "nbformat_minor": 5
}