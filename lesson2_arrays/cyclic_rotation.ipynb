{
 "cells": [
  {
   "cell_type": "code",
   "execution_count": 1,
   "id": "c7cc642e",
   "metadata": {
    "pycharm": {
     "name": "#%%\n"
    }
   },
   "outputs": [],
   "source": [
    "# An array A consisting of N integers is given.\n",
    "# Rotation of the array means that each element is shifted right by one index, and the last element of the array is moved to the first place.\n",
    "# For example, the rotation of array A = [3, 8, 9, 7, 6] is [6, 3, 8, 9, 7] (elements are shifted right by one index and 6 is moved to the first place).\n",
    "\n",
    "# The goal is to rotate array A K times; that is, each element of A will be shifted to the right K times.\n",
    "\n",
    "# Write a function:\n",
    "\n",
    "# def solution(A, K)\n",
    "\n",
    "# that, given an array A consisting of N integers and an integer K, returns the array A rotated K times.\n",
    "\n",
    "# For example, given\n",
    "\n",
    "#     A = [3, 8, 9, 7, 6]\n",
    "#     K = 3\n",
    "# the function should return [9, 7, 6, 3, 8].\n",
    "# Three rotations were made:\n",
    "\n",
    "#     [3, 8, 9, 7, 6] -> [6, 3, 8, 9, 7]\n",
    "#     [6, 3, 8, 9, 7] -> [7, 6, 3, 8, 9]\n",
    "#     [7, 6, 3, 8, 9] -> [9, 7, 6, 3, 8]\n",
    "# For another example, given\n",
    "\n",
    "#     A = [0, 0, 0]\n",
    "#     K = 1\n",
    "# the function should return [0, 0, 0]\n",
    "\n",
    "# Given\n",
    "\n",
    "#     A = [1, 2, 3, 4]\n",
    "#     K = 4\n",
    "# the function should return [1, 2, 3, 4]\n",
    "\n",
    "# Assume that:\n",
    "\n",
    "# N and K are integers within the range [0..100];\n",
    "# each element of array A is an integer within the range [−1,000..1,000]."
   ]
  },
  {
   "cell_type": "code",
   "execution_count": 2,
   "id": "7e57a088",
   "metadata": {
    "pycharm": {
     "name": "#%%\n"
    }
   },
   "outputs": [
    {
     "name": "stdout",
     "output_type": "stream",
     "text": [
      "I'm on it!!!\n",
      "example1\n",
      "example2\n",
      "example3\n",
      "example4\n"
     ]
    }
   ],
   "source": [
    "def solution(A, K):\n",
    "    for _ in range(0, K):\n",
    "        elm = A.pop()\n",
    "        A.insert(0, elm)\n",
    "    return A        \n",
    "    \n",
    "def main():\n",
    "    print(\"I'm on it!!!\")\n",
    "\n",
    "    print(\"example1\")\n",
    "    actual1 = solution([3, 8, 9, 7, 6], 3)\n",
    "    expected1 = [9, 7, 6, 3, 8]\n",
    "    assert actual1 == expected1, \"actual: {} expected {}\".format(actual1, expected1)\n",
    "\n",
    "    print(\"example2\")\n",
    "    actual2 = solution([0, 0, 0], 3)\n",
    "    expected2 = [0, 0, 0]\n",
    "    assert actual2 == expected2, \"actual: {} expected {}\".format(actual2, expected2)\n",
    "    \n",
    "    print(\"example3\")\n",
    "    actual3 = solution([1, 2, 3, 4], 4)\n",
    "    expected3 = [1, 2, 3, 4]\n",
    "    assert actual3 == expected3, \"actual: {} expected {}\".format(actual3, expected3)\n",
    "    \n",
    "    print(\"example4\")\n",
    "    actual4 = solution([1, 2, 3, 4], 5)\n",
    "    expected4 = [4, 1, 2, 3]\n",
    "    assert actual4 == expected4, \"actual: {} expected {}\".format(actual4, expected4)\n",
    "    \n",
    "if __name__ == \"__main__\":\n",
    "    main()"
   ]
  },
  {
   "cell_type": "code",
   "execution_count": 2,
   "id": "79ca5122",
   "metadata": {
    "pycharm": {
     "name": "#%%\n"
    }
   },
   "outputs": [],
   "source": []
  }
 ],
 "metadata": {
  "kernelspec": {
   "display_name": "Python 3 (ipykernel)",
   "language": "python",
   "name": "python3"
  },
  "language_info": {
   "codemirror_mode": {
    "name": "ipython",
    "version": 3
   },
   "file_extension": ".py",
   "mimetype": "text/x-python",
   "name": "python",
   "nbconvert_exporter": "python",
   "pygments_lexer": "ipython3",
   "version": "3.10.6"
  }
 },
 "nbformat": 4,
 "nbformat_minor": 5
}