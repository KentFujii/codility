{
 "cells": [
  {
   "cell_type": "code",
   "execution_count": 1,
   "outputs": [],
   "source": [
    "# Write a function:\n",
    "#\n",
    "# def solution(A, B, K)\n",
    "#\n",
    "# that, given three integers A, B and K, returns the number of integers within the range [A..B] that are divisible by K, i.e.:\n",
    "#\n",
    "# { i : A ≤ i ≤ B, i mod K = 0 }\n",
    "#\n",
    "# For example, for A = 6, B = 11 and K = 2, your function should return 3, because there are three numbers divisible by 2 within the range [6..11], namely 6, 8 and 10.\n",
    "#\n",
    "# Write an efficient algorithm for the following assumptions:\n",
    "#\n",
    "# A and B are integers within the range [0..2,000,000,000];\n",
    "# K is an integer within the range [1..2,000,000,000];\n",
    "# A ≤ B."
   ],
   "metadata": {
    "collapsed": false,
    "pycharm": {
     "name": "#%%\n"
    }
   }
  },
  {
   "cell_type": "code",
   "execution_count": 3,
   "outputs": [],
   "source": [
    "def solution(A, B, K):\n",
    "    seq = range(A, B+1)\n",
    "    count = 0\n",
    "    for i in seq:\n",
    "        if i % K == 0:\n",
    "            count += 1\n",
    "    return count\n",
    "\n",
    "def main():\n",
    "    actual = solution(6, 11, 2)\n",
    "    expected = 3\n",
    "    assert actual == expected\n",
    "\n",
    "if __name__ == '__main__':\n",
    "    main()"
   ],
   "metadata": {
    "collapsed": false,
    "pycharm": {
     "name": "#%%\n"
    }
   }
  },
  {
   "cell_type": "code",
   "execution_count": null,
   "outputs": [],
   "source": [],
   "metadata": {
    "collapsed": false,
    "pycharm": {
     "name": "#%%\n"
    }
   }
  }
 ],
 "metadata": {
  "kernelspec": {
   "display_name": "Python 3",
   "language": "python",
   "name": "python3"
  },
  "language_info": {
   "codemirror_mode": {
    "name": "ipython",
    "version": 2
   },
   "file_extension": ".py",
   "mimetype": "text/x-python",
   "name": "python",
   "nbconvert_exporter": "python",
   "pygments_lexer": "ipython2",
   "version": "2.7.6"
  }
 },
 "nbformat": 4,
 "nbformat_minor": 0
}