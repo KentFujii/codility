{
 "cells": [
  {
   "cell_type": "code",
   "execution_count": 1,
   "outputs": [],
   "source": [
    "# A non-empty array A consisting of N integers is given.\n",
    "# A pair of integers (P, Q), such that 0 ≤ P < Q < N, is called a slice of array A (notice that the slice contains at least two elements).\n",
    "# The average of a slice (P, Q) is the sum of A[P] + A[P + 1] + ... + A[Q] divided by the length of the slice.\n",
    "# To be precise, the average equals (A[P] + A[P + 1] + ... + A[Q]) / (Q − P + 1).\n",
    "#\n",
    "# For example, array A such that:\n",
    "#\n",
    "# A[0] = 4\n",
    "# A[1] = 2\n",
    "# A[2] = 2\n",
    "# A[3] = 5\n",
    "# A[4] = 1\n",
    "# A[5] = 5\n",
    "# A[6] = 8\n",
    "# contains the following example slices:\n",
    "#\n",
    "# slice (1, 2), whose average is (2 + 2) / 2 = 2;\n",
    "# slice (3, 4), whose average is (5 + 1) / 2 = 3;\n",
    "# slice (1, 4), whose average is (2 + 2 + 5 + 1) / 4 = 2.5.\n",
    "# The goal is to find the starting position of a slice whose average is minimal.\n",
    "#\n",
    "# Write a function:\n",
    "#\n",
    "# def solution(A)\n",
    "#\n",
    "# that, given a non-empty array A consisting of N integers, returns the starting position of the slice with the minimal average.\n",
    "# If there is more than one slice with a minimal average, you should return the smallest starting position of such a slice.\n",
    "#\n",
    "# For example, given array A such that:\n",
    "#\n",
    "# A[0] = 4\n",
    "# A[1] = 2\n",
    "# A[2] = 2\n",
    "# A[3] = 5\n",
    "# A[4] = 1\n",
    "# A[5] = 5\n",
    "# A[6] = 8\n",
    "# the function should return 1, as explained above.\n",
    "#\n",
    "# Write an efficient algorithm for the following assumptions:\n",
    "#\n",
    "# N is an integer within the range [2..100,000];\n",
    "# each element of array A is an integer within the range [−10,000..10,000]."
   ],
   "metadata": {
    "collapsed": false,
    "pycharm": {
     "name": "#%%\n"
    }
   }
  },
  {
   "cell_type": "code",
   "execution_count": 2,
   "outputs": [
    {
     "name": "stdout",
     "output_type": "stream",
     "text": [
      "1\n"
     ]
    }
   ],
   "source": [
    "def solution(A):\n",
    "    mn = (A[0]+A[1])/2\n",
    "    mn_idx = 0\n",
    "    for P  in range(0, len(A)):\n",
    "        for Q in range(P+1, len(A)):\n",
    "            if (A[P]+A[Q])/(Q-P+1) < mn:\n",
    "                mn = (A[P]+A[Q])/(Q-P+1)\n",
    "                mn_idx = P\n",
    "    return mn_idx\n",
    "\n",
    "def main():\n",
    "    actual = solution([4, 2, 2, 5, 1, 5, 8])\n",
    "    expected = 1\n",
    "    print(actual)\n",
    "    assert actual == expected\n",
    "\n",
    "if __name__ == \"__main__\":\n",
    "    main()"
   ],
   "metadata": {
    "collapsed": false,
    "pycharm": {
     "name": "#%%\n"
    }
   }
  },
  {
   "cell_type": "code",
   "execution_count": 2,
   "outputs": [],
   "source": [],
   "metadata": {
    "collapsed": false,
    "pycharm": {
     "name": "#%%\n"
    }
   }
  }
 ],
 "metadata": {
  "kernelspec": {
   "display_name": "Python 3",
   "language": "python",
   "name": "python3"
  },
  "language_info": {
   "codemirror_mode": {
    "name": "ipython",
    "version": 2
   },
   "file_extension": ".py",
   "mimetype": "text/x-python",
   "name": "python",
   "nbconvert_exporter": "python",
   "pygments_lexer": "ipython2",
   "version": "2.7.6"
  }
 },
 "nbformat": 4,
 "nbformat_minor": 0
}