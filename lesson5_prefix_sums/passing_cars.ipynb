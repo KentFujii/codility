{
 "cells": [
  {
   "cell_type": "code",
   "execution_count": 1,
   "outputs": [],
   "source": [
    "# A non-empty array A consisting of N integers is given. The consecutive elements of array A represent consecutive cars on a road.\n",
    "#\n",
    "# Array A contains only 0s and/or 1s:\n",
    "#\n",
    "# 0 represents a car traveling east,\n",
    "# 1 represents a car traveling west.\n",
    "# The goal is to count passing cars. We say that a pair of cars (P, Q), where 0 ≤ P < Q < N, is passing when P is traveling to the east and Q is traveling to the west.\n",
    "#\n",
    "# For example, consider array A such that:\n",
    "#\n",
    "# A[0] = 0\n",
    "# A[1] = 1\n",
    "# A[2] = 0\n",
    "# A[3] = 1\n",
    "# A[4] = 1\n",
    "# We have five pairs of passing cars: (0, 1), (0, 3), (0, 4), (2, 3), (2, 4).\n",
    "#\n",
    "# Write a function:\n",
    "#\n",
    "# def solution(A)\n",
    "#\n",
    "# that, given a non-empty array A of N integers, returns the number of pairs of passing cars.\n",
    "#\n",
    "# The function should return −1 if the number of pairs of passing cars exceeds 1,000,000,000.\n",
    "#\n",
    "# For example, given:\n",
    "#\n",
    "# A[0] = 0\n",
    "# A[1] = 1\n",
    "# A[2] = 0\n",
    "# A[3] = 1\n",
    "# A[4] = 1\n",
    "# the function should return 5, as explained above.\n",
    "#\n",
    "# Write an efficient algorithm for the following assumptions:\n",
    "#\n",
    "# N is an integer within the range [1..100,000];\n",
    "# each element of array A is an integer that can have one of the following values: 0, 1."
   ],
   "metadata": {
    "collapsed": false,
    "pycharm": {
     "name": "#%%\n"
    }
   }
  },
  {
   "cell_type": "code",
   "execution_count": 2,
   "outputs": [],
   "source": [
    "def solution(A):\n",
    "    count = 0\n",
    "    for i in range(len(A)):\n",
    "        if A[i] == 0:\n",
    "            count += A[i+1:].count(1)\n",
    "    return count\n",
    "\n",
    "def main():\n",
    "    actual = solution([0,1,0,1,1])\n",
    "    expected = 5\n",
    "    assert actual == expected\n",
    "\n",
    "if __name__ == \"__main__\":\n",
    "    main()"
   ],
   "metadata": {
    "collapsed": false,
    "pycharm": {
     "name": "#%%\n"
    }
   }
  },
  {
   "cell_type": "code",
   "execution_count": 2,
   "outputs": [],
   "source": [],
   "metadata": {
    "collapsed": false,
    "pycharm": {
     "name": "#%%\n"
    }
   }
  }
 ],
 "metadata": {
  "kernelspec": {
   "display_name": "Python 3",
   "language": "python",
   "name": "python3"
  },
  "language_info": {
   "codemirror_mode": {
    "name": "ipython",
    "version": 2
   },
   "file_extension": ".py",
   "mimetype": "text/x-python",
   "name": "python",
   "nbconvert_exporter": "python",
   "pygments_lexer": "ipython2",
   "version": "2.7.6"
  }
 },
 "nbformat": 4,
 "nbformat_minor": 0
}