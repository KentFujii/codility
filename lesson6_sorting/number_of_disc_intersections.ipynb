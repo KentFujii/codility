{
 "cells": [
  {
   "cell_type": "code",
   "execution_count": null,
   "outputs": [],
   "source": [
    "# We draw N discs on a plane. The discs are numbered from 0 to N − 1.\n",
    "# An array A of N non-negative integers, specifying the radiuses of the discs, is given.\n",
    "# The J-th disc is drawn with its center at (J, 0) and radius A[J].\n",
    "#\n",
    "# We say that the J-th disc and K-th disc intersect if J ≠ K and the J-th and K-th discs have at least one common point\n",
    "# (assuming that the discs contain  their borders).\n",
    "#\n",
    "# The figure below shows discs drawn for N = 6 and A as follows:\n",
    "#\n",
    "#     A[0] = 1\n",
    "#     A[1] = 5\n",
    "#     A[2] = 2\n",
    "#     A[3] = 1\n",
    "#     A[4] = 4\n",
    "#     A[5] = 0\n",
    "#\n",
    "#\n",
    "# There are eleven (unordered) pairs of discs that intersect, namely:\n",
    "#\n",
    "# discs 1 and 4 intersect, and both intersect with all the other discs;\n",
    "# disc 2 also intersects with discs 0 and 3.\n",
    "# Write a function:\n",
    "#\n",
    "# def solution(A)\n",
    "#\n",
    "# that, given an array A describing N discs as explained above, returns the number of (unordered) pairs of intersecting discs.\n",
    "# The function should return  −1 if the number of intersecting pairs exceeds 10,000,000.\n",
    "#\n",
    "# Given array A shown above, the function should return 11, as explained above.\n",
    "#\n",
    "# Write an efficient algorithm for the following assumptions:\n",
    "#\n",
    "# N is an integer within the range [0..100,000];\n",
    "# each element of array A is an integer within the range [0..2,147,483,647]."
   ],
   "metadata": {
    "collapsed": false,
    "pycharm": {
     "name": "#%%\n"
    }
   }
  }
 ],
 "metadata": {
  "kernelspec": {
   "display_name": "Python 3",
   "language": "python",
   "name": "python3"
  },
  "language_info": {
   "codemirror_mode": {
    "name": "ipython",
    "version": 2
   },
   "file_extension": ".py",
   "mimetype": "text/x-python",
   "name": "python",
   "nbconvert_exporter": "python",
   "pygments_lexer": "ipython2",
   "version": "2.7.6"
  }
 },
 "nbformat": 4,
 "nbformat_minor": 0
}