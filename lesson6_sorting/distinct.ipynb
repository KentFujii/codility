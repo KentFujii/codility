{
 "cells": [
  {
   "cell_type": "code",
   "execution_count": 1,
   "outputs": [],
   "source": [
    "# Write a function\n",
    "#\n",
    "# def solution(A)\n",
    "#\n",
    "# that, given an array A consisting of N integers, returns the number of distinct values in array A.\n",
    "#\n",
    "# For example, given array A consisting of six elements such that:\n",
    "#\n",
    "# A[0] = 2    A[1] = 1    A[2] = 1\n",
    "# A[3] = 2    A[4] = 3    A[5] = 1\n",
    "# the function should return 3, because there are 3 distinct values appearing in array A, namely 1, 2 and 3.\n",
    "#\n",
    "# Write an efficient algorithm for the following assumptions:\n",
    "#\n",
    "# N is an integer within the range [0..100,000];\n",
    "# each element of array A is an integer within the range [−1,000,000..1,000,000]."
   ],
   "metadata": {
    "collapsed": false,
    "pycharm": {
     "name": "#%%\n"
    }
   }
  },
  {
   "cell_type": "code",
   "execution_count": 2,
   "outputs": [],
   "source": [
    "def solution(A):\n",
    "    return len(set(A))\n",
    "\n",
    "def main():\n",
    "    actual = solution([2, 1, 1, 2, 3, 1])\n",
    "    expected = 3\n",
    "    assert actual == expected\n",
    "\n",
    "if __name__ == '__main__':\n",
    "    main()"
   ],
   "metadata": {
    "collapsed": false,
    "pycharm": {
     "name": "#%%\n"
    }
   }
  },
  {
   "cell_type": "code",
   "execution_count": null,
   "outputs": [],
   "source": [],
   "metadata": {
    "collapsed": false,
    "pycharm": {
     "name": "#%%\n"
    }
   }
  }
 ],
 "metadata": {
  "kernelspec": {
   "display_name": "Python 3",
   "language": "python",
   "name": "python3"
  },
  "language_info": {
   "codemirror_mode": {
    "name": "ipython",
    "version": 2
   },
   "file_extension": ".py",
   "mimetype": "text/x-python",
   "name": "python",
   "nbconvert_exporter": "python",
   "pygments_lexer": "ipython2",
   "version": "2.7.6"
  }
 },
 "nbformat": 4,
 "nbformat_minor": 0
}