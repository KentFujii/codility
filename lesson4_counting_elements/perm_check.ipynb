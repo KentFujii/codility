{
 "cells": [
  {
   "cell_type": "code",
   "execution_count": 1,
   "outputs": [],
   "source": [
    "# def solution(A):\n",
    "#     # write your code in Python 3.6\n",
    "#     A.sort()\n",
    "#     if A[0] != 1:\n",
    "#         return 0\n",
    "#     for i in range(1, len(A)):\n",
    "#         if A[i] - A[i-1] != 1:\n",
    "#             return 0\n",
    "#     return 1"
   ],
   "metadata": {
    "collapsed": false,
    "pycharm": {
     "name": "#%%\n"
    }
   }
  },
  {
   "cell_type": "code",
   "execution_count": 2,
   "outputs": [],
   "source": [
    "def solution(A):\n",
    "    if len(A) != len(set(A)):\n",
    "        return 0\n",
    "    mn = min(A)\n",
    "    mx = max(A)\n",
    "    org_set = set(A)\n",
    "    ck_set = set(range(mn, mx+1))\n",
    "    if org_set == ck_set:\n",
    "        return 1\n",
    "    else:\n",
    "        return 0\n",
    "\n",
    "def main():\n",
    "    actual1 = solution([4, 1, 3, 2])\n",
    "    expected1 = 1\n",
    "    assert actual1 == expected1\n",
    "\n",
    "    actual2 = solution([4, 1, 3])\n",
    "    expected2 = 0\n",
    "    assert actual2 == expected2\n",
    "\n",
    "if __name__ == '__main__':\n",
    "    main()"
   ],
   "metadata": {
    "collapsed": false,
    "pycharm": {
     "name": "#%%\n"
    }
   }
  }
 ],
 "metadata": {
  "kernelspec": {
   "display_name": "Python 3",
   "language": "python",
   "name": "python3"
  },
  "language_info": {
   "codemirror_mode": {
    "name": "ipython",
    "version": 2
   },
   "file_extension": ".py",
   "mimetype": "text/x-python",
   "name": "python",
   "nbconvert_exporter": "python",
   "pygments_lexer": "ipython2",
   "version": "2.7.6"
  }
 },
 "nbformat": 4,
 "nbformat_minor": 0
}