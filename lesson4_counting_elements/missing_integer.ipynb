{
 "cells": [
  {
   "cell_type": "code",
   "execution_count": 2,
   "outputs": [],
   "source": [
    "# This is a demo task.\n",
    "#\n",
    "# Write a function:\n",
    "#\n",
    "# def solution(A)\n",
    "#\n",
    "# that, given an array A of N integers, returns the smallest positive integer (greater than 0) that does not occur in A.\n",
    "#\n",
    "# For example, given A = [1, 3, 6, 4, 1, 2], the function should return 5.\n",
    "#\n",
    "# Given A = [1, 2, 3], the function should return 4.\n",
    "#\n",
    "# Given A = [−1, −3], the function should return 1.\n",
    "#\n",
    "# Write an efficient algorithm for the following assumptions:\n",
    "#\n",
    "# N is an integer within the range [1..100,000];\n",
    "# each element of array A is an integer within the range [−1,000,000..1,000,000]."
   ],
   "metadata": {
    "collapsed": false,
    "pycharm": {
     "name": "#%%\n"
    }
   }
  },
  {
   "cell_type": "code",
   "execution_count": 16,
   "outputs": [
    {
     "name": "stdout",
     "output_type": "stream",
     "text": [
      "5\n"
     ]
    }
   ],
   "source": [
    "def solution(A):\n",
    "    pstv = [i for i in A if i > 0]\n",
    "    if len(pstv) == 0:\n",
    "        return 1\n",
    "    st = set(pstv)\n",
    "    mx = max(pstv)\n",
    "    mn = min(pstv)\n",
    "    sb = set(range(mn, mx+1)) - st\n",
    "    if len(sb) == 0:\n",
    "        return mx + 1\n",
    "    else:\n",
    "        return min(sb)\n",
    "\n",
    "def main():\n",
    "    actual1 = solution([1, 3, 6, 4, 1, 2])\n",
    "    print(actual1)\n",
    "    expected1 = 5\n",
    "    assert actual1 == expected1\n",
    "\n",
    "    actual2 = solution([1, 2, 3])\n",
    "    expected2 = 4\n",
    "    assert actual2 == expected2\n",
    "\n",
    "    actual3 = solution([-1, -3])\n",
    "    expected3 = 1\n",
    "    assert actual3 == expected3\n",
    "\n",
    "if __name__ == \"__main__\":\n",
    "    main()\n",
    "\n"
   ],
   "metadata": {
    "collapsed": false,
    "pycharm": {
     "name": "#%%\n"
    }
   }
  },
  {
   "cell_type": "code",
   "execution_count": null,
   "outputs": [],
   "source": [],
   "metadata": {
    "collapsed": false,
    "pycharm": {
     "name": "#%%\n"
    }
   }
  }
 ],
 "metadata": {
  "kernelspec": {
   "display_name": "Python 3",
   "language": "python",
   "name": "python3"
  },
  "language_info": {
   "codemirror_mode": {
    "name": "ipython",
    "version": 2
   },
   "file_extension": ".py",
   "mimetype": "text/x-python",
   "name": "python",
   "nbconvert_exporter": "python",
   "pygments_lexer": "ipython2",
   "version": "2.7.6"
  }
 },
 "nbformat": 4,
 "nbformat_minor": 0
}